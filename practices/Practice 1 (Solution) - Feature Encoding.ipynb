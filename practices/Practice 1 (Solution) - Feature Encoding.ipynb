{
 "cells": [
  {
   "cell_type": "markdown",
   "metadata": {
    "slideshow": {
     "slide_type": "slide"
    }
   },
   "source": [
    "# Feature Encoding"
   ]
  },
  {
   "cell_type": "markdown",
   "metadata": {},
   "source": [
    "datasets:\n",
    "\n",
    "https://www.openml.org/search?type=data&status=active"
   ]
  },
  {
   "cell_type": "code",
   "execution_count": 1,
   "metadata": {},
   "outputs": [],
   "source": [
    "# General imports\n",
    "%matplotlib inline\n",
    "from preamble import *\n",
    "plt.rcParams['savefig.dpi'] = 100 # This controls the size of your figures\n",
    "from matplotlib import cm\n",
    "import numpy as np\n",
    "import pandas as pd\n",
    "from sklearn.cluster import KMeans\n",
    "from sklearn.metrics import silhouette_score\n",
    "from sklearn import preprocessing\n",
    "from sklearn.model_selection import train_test_split\n",
    "from sklearn.tree import DecisionTreeClassifier\n",
    "from sklearn.preprocessing import LabelEncoder\n",
    "from sklearn import metrics\n",
    "from sklearn.tree import export_text\n",
    "plt.style.use(\"ggplot\")"
   ]
  },
  {
   "cell_type": "code",
   "execution_count": 2,
   "metadata": {},
   "outputs": [],
   "source": [
    "credit = oml.datasets.get_dataset(31)\n",
    "X, y, _, _ = credit.get_data(target=credit.default_target_attribute); \n",
    "attribute_names = list(X)"
   ]
  },
  {
   "cell_type": "code",
   "execution_count": 3,
   "metadata": {},
   "outputs": [
    {
     "data": {
      "text/html": [
       "<div>\n",
       "<style scoped>\n",
       "    .dataframe tbody tr th:only-of-type {\n",
       "        vertical-align: middle;\n",
       "    }\n",
       "\n",
       "    .dataframe tbody tr th {\n",
       "        vertical-align: top;\n",
       "    }\n",
       "\n",
       "    .dataframe thead th {\n",
       "        text-align: right;\n",
       "    }\n",
       "</style>\n",
       "<table border=\"1\" class=\"dataframe\">\n",
       "  <thead>\n",
       "    <tr style=\"text-align: right;\">\n",
       "      <th></th>\n",
       "      <th>checking_status</th>\n",
       "      <th>duration</th>\n",
       "      <th>credit_history</th>\n",
       "      <th>purpose</th>\n",
       "      <th>...</th>\n",
       "      <th>job</th>\n",
       "      <th>num_dependents</th>\n",
       "      <th>own_telephone</th>\n",
       "      <th>foreign_worker</th>\n",
       "    </tr>\n",
       "  </thead>\n",
       "  <tbody>\n",
       "    <tr>\n",
       "      <th>0</th>\n",
       "      <td>&lt;0</td>\n",
       "      <td>6</td>\n",
       "      <td>critical/other existing credit</td>\n",
       "      <td>radio/tv</td>\n",
       "      <td>...</td>\n",
       "      <td>skilled</td>\n",
       "      <td>1</td>\n",
       "      <td>yes</td>\n",
       "      <td>yes</td>\n",
       "    </tr>\n",
       "    <tr>\n",
       "      <th>1</th>\n",
       "      <td>0&lt;=X&lt;200</td>\n",
       "      <td>48</td>\n",
       "      <td>existing paid</td>\n",
       "      <td>radio/tv</td>\n",
       "      <td>...</td>\n",
       "      <td>skilled</td>\n",
       "      <td>1</td>\n",
       "      <td>none</td>\n",
       "      <td>yes</td>\n",
       "    </tr>\n",
       "    <tr>\n",
       "      <th>2</th>\n",
       "      <td>no checking</td>\n",
       "      <td>12</td>\n",
       "      <td>critical/other existing credit</td>\n",
       "      <td>education</td>\n",
       "      <td>...</td>\n",
       "      <td>unskilled resident</td>\n",
       "      <td>2</td>\n",
       "      <td>none</td>\n",
       "      <td>yes</td>\n",
       "    </tr>\n",
       "    <tr>\n",
       "      <th>3</th>\n",
       "      <td>&lt;0</td>\n",
       "      <td>42</td>\n",
       "      <td>existing paid</td>\n",
       "      <td>furniture/equipment</td>\n",
       "      <td>...</td>\n",
       "      <td>skilled</td>\n",
       "      <td>2</td>\n",
       "      <td>none</td>\n",
       "      <td>yes</td>\n",
       "    </tr>\n",
       "    <tr>\n",
       "      <th>4</th>\n",
       "      <td>&lt;0</td>\n",
       "      <td>24</td>\n",
       "      <td>delayed previously</td>\n",
       "      <td>new car</td>\n",
       "      <td>...</td>\n",
       "      <td>skilled</td>\n",
       "      <td>2</td>\n",
       "      <td>none</td>\n",
       "      <td>yes</td>\n",
       "    </tr>\n",
       "  </tbody>\n",
       "</table>\n",
       "<p>5 rows × 20 columns</p>\n",
       "</div>"
      ],
      "text/plain": [
       "  checking_status  duration                  credit_history  \\\n",
       "0              <0         6  critical/other existing credit   \n",
       "1        0<=X<200        48                   existing paid   \n",
       "2     no checking        12  critical/other existing credit   \n",
       "3              <0        42                   existing paid   \n",
       "4              <0        24              delayed previously   \n",
       "\n",
       "               purpose  ...                 job num_dependents own_telephone  \\\n",
       "0             radio/tv  ...             skilled              1           yes   \n",
       "1             radio/tv  ...             skilled              1          none   \n",
       "2            education  ...  unskilled resident              2          none   \n",
       "3  furniture/equipment  ...             skilled              2          none   \n",
       "4              new car  ...             skilled              2          none   \n",
       "\n",
       "   foreign_worker  \n",
       "0             yes  \n",
       "1             yes  \n",
       "2             yes  \n",
       "3             yes  \n",
       "4             yes  \n",
       "\n",
       "[5 rows x 20 columns]"
      ]
     },
     "execution_count": 3,
     "metadata": {},
     "output_type": "execute_result"
    }
   ],
   "source": [
    "X.head()"
   ]
  },
  {
   "cell_type": "code",
   "execution_count": 4,
   "metadata": {},
   "outputs": [
    {
     "data": {
      "text/plain": [
       "0    good\n",
       "1     bad\n",
       "2    good\n",
       "3    good\n",
       "4     bad\n",
       "Name: class, dtype: category\n",
       "Categories (2, object): ['good' < 'bad']"
      ]
     },
     "execution_count": 4,
     "metadata": {},
     "output_type": "execute_result"
    }
   ],
   "source": [
    "y.head()"
   ]
  },
  {
   "cell_type": "code",
   "execution_count": 5,
   "metadata": {},
   "outputs": [
    {
     "data": {
      "text/plain": [
       "['checking_status',\n",
       " 'duration',\n",
       " 'credit_history',\n",
       " 'purpose',\n",
       " 'credit_amount',\n",
       " 'savings_status',\n",
       " 'employment',\n",
       " 'installment_commitment',\n",
       " 'personal_status',\n",
       " 'other_parties',\n",
       " 'residence_since',\n",
       " 'property_magnitude',\n",
       " 'age',\n",
       " 'other_payment_plans',\n",
       " 'housing',\n",
       " 'existing_credits',\n",
       " 'job',\n",
       " 'num_dependents',\n",
       " 'own_telephone',\n",
       " 'foreign_worker']"
      ]
     },
     "execution_count": 5,
     "metadata": {},
     "output_type": "execute_result"
    }
   ],
   "source": [
    "attribute_names"
   ]
  },
  {
   "cell_type": "code",
   "execution_count": 6,
   "metadata": {},
   "outputs": [
    {
     "data": {
      "text/html": [
       "<div>\n",
       "<style scoped>\n",
       "    .dataframe tbody tr th:only-of-type {\n",
       "        vertical-align: middle;\n",
       "    }\n",
       "\n",
       "    .dataframe tbody tr th {\n",
       "        vertical-align: top;\n",
       "    }\n",
       "\n",
       "    .dataframe thead th {\n",
       "        text-align: right;\n",
       "    }\n",
       "</style>\n",
       "<table border=\"1\" class=\"dataframe\">\n",
       "  <thead>\n",
       "    <tr style=\"text-align: right;\">\n",
       "      <th></th>\n",
       "      <th>credit_history</th>\n",
       "      <th>purpose</th>\n",
       "      <th>credit_amount</th>\n",
       "      <th>savings_status</th>\n",
       "      <th>existing_credits</th>\n",
       "      <th>job</th>\n",
       "      <th>own_telephone</th>\n",
       "      <th>foreign_worker</th>\n",
       "    </tr>\n",
       "  </thead>\n",
       "  <tbody>\n",
       "    <tr>\n",
       "      <th>0</th>\n",
       "      <td>critical/other existing credit</td>\n",
       "      <td>radio/tv</td>\n",
       "      <td>1169.0</td>\n",
       "      <td>no known savings</td>\n",
       "      <td>2</td>\n",
       "      <td>skilled</td>\n",
       "      <td>yes</td>\n",
       "      <td>yes</td>\n",
       "    </tr>\n",
       "    <tr>\n",
       "      <th>1</th>\n",
       "      <td>existing paid</td>\n",
       "      <td>radio/tv</td>\n",
       "      <td>5951.0</td>\n",
       "      <td>&lt;100</td>\n",
       "      <td>1</td>\n",
       "      <td>skilled</td>\n",
       "      <td>none</td>\n",
       "      <td>yes</td>\n",
       "    </tr>\n",
       "    <tr>\n",
       "      <th>2</th>\n",
       "      <td>critical/other existing credit</td>\n",
       "      <td>education</td>\n",
       "      <td>2096.0</td>\n",
       "      <td>&lt;100</td>\n",
       "      <td>1</td>\n",
       "      <td>unskilled resident</td>\n",
       "      <td>none</td>\n",
       "      <td>yes</td>\n",
       "    </tr>\n",
       "    <tr>\n",
       "      <th>3</th>\n",
       "      <td>existing paid</td>\n",
       "      <td>furniture/equipment</td>\n",
       "      <td>7882.0</td>\n",
       "      <td>&lt;100</td>\n",
       "      <td>1</td>\n",
       "      <td>skilled</td>\n",
       "      <td>none</td>\n",
       "      <td>yes</td>\n",
       "    </tr>\n",
       "    <tr>\n",
       "      <th>4</th>\n",
       "      <td>delayed previously</td>\n",
       "      <td>new car</td>\n",
       "      <td>4870.0</td>\n",
       "      <td>&lt;100</td>\n",
       "      <td>2</td>\n",
       "      <td>skilled</td>\n",
       "      <td>none</td>\n",
       "      <td>yes</td>\n",
       "    </tr>\n",
       "  </tbody>\n",
       "</table>\n",
       "</div>"
      ],
      "text/plain": [
       "                   credit_history              purpose  credit_amount  \\\n",
       "0  critical/other existing credit             radio/tv         1169.0   \n",
       "1                   existing paid             radio/tv         5951.0   \n",
       "2  critical/other existing credit            education         2096.0   \n",
       "3                   existing paid  furniture/equipment         7882.0   \n",
       "4              delayed previously              new car         4870.0   \n",
       "\n",
       "     savings_status  existing_credits                 job own_telephone  \\\n",
       "0  no known savings                 2             skilled           yes   \n",
       "1              <100                 1             skilled          none   \n",
       "2              <100                 1  unskilled resident          none   \n",
       "3              <100                 1             skilled          none   \n",
       "4              <100                 2             skilled          none   \n",
       "\n",
       "  foreign_worker  \n",
       "0            yes  \n",
       "1            yes  \n",
       "2            yes  \n",
       "3            yes  \n",
       "4            yes  "
      ]
     },
     "execution_count": 6,
     "metadata": {},
     "output_type": "execute_result"
    }
   ],
   "source": [
    "df = X[['credit_history', 'purpose', 'credit_amount', 'savings_status',\n",
    "        'existing_credits', 'job', 'own_telephone','foreign_worker']].copy()\n",
    "df.head()"
   ]
  },
  {
   "cell_type": "markdown",
   "metadata": {},
   "source": [
    "## Quick Exploration\n"
   ]
  },
  {
   "cell_type": "code",
   "execution_count": 7,
   "metadata": {},
   "outputs": [
    {
     "data": {
      "text/html": [
       "<div>\n",
       "<style scoped>\n",
       "    .dataframe tbody tr th:only-of-type {\n",
       "        vertical-align: middle;\n",
       "    }\n",
       "\n",
       "    .dataframe tbody tr th {\n",
       "        vertical-align: top;\n",
       "    }\n",
       "\n",
       "    .dataframe thead th {\n",
       "        text-align: right;\n",
       "    }\n",
       "</style>\n",
       "<table border=\"1\" class=\"dataframe\">\n",
       "  <thead>\n",
       "    <tr style=\"text-align: right;\">\n",
       "      <th></th>\n",
       "      <th>credit_history</th>\n",
       "      <th>purpose</th>\n",
       "      <th>credit_amount</th>\n",
       "      <th>savings_status</th>\n",
       "      <th>existing_credits</th>\n",
       "      <th>job</th>\n",
       "      <th>own_telephone</th>\n",
       "      <th>foreign_worker</th>\n",
       "    </tr>\n",
       "  </thead>\n",
       "  <tbody>\n",
       "    <tr>\n",
       "      <th>0</th>\n",
       "      <td>critical/other existing credit</td>\n",
       "      <td>radio/tv</td>\n",
       "      <td>1169.0</td>\n",
       "      <td>no known savings</td>\n",
       "      <td>2</td>\n",
       "      <td>skilled</td>\n",
       "      <td>yes</td>\n",
       "      <td>yes</td>\n",
       "    </tr>\n",
       "    <tr>\n",
       "      <th>1</th>\n",
       "      <td>existing paid</td>\n",
       "      <td>radio/tv</td>\n",
       "      <td>5951.0</td>\n",
       "      <td>&lt;100</td>\n",
       "      <td>1</td>\n",
       "      <td>skilled</td>\n",
       "      <td>none</td>\n",
       "      <td>yes</td>\n",
       "    </tr>\n",
       "    <tr>\n",
       "      <th>2</th>\n",
       "      <td>critical/other existing credit</td>\n",
       "      <td>education</td>\n",
       "      <td>2096.0</td>\n",
       "      <td>&lt;100</td>\n",
       "      <td>1</td>\n",
       "      <td>unskilled resident</td>\n",
       "      <td>none</td>\n",
       "      <td>yes</td>\n",
       "    </tr>\n",
       "    <tr>\n",
       "      <th>3</th>\n",
       "      <td>existing paid</td>\n",
       "      <td>furniture/equipment</td>\n",
       "      <td>7882.0</td>\n",
       "      <td>&lt;100</td>\n",
       "      <td>1</td>\n",
       "      <td>skilled</td>\n",
       "      <td>none</td>\n",
       "      <td>yes</td>\n",
       "    </tr>\n",
       "    <tr>\n",
       "      <th>4</th>\n",
       "      <td>delayed previously</td>\n",
       "      <td>new car</td>\n",
       "      <td>4870.0</td>\n",
       "      <td>&lt;100</td>\n",
       "      <td>2</td>\n",
       "      <td>skilled</td>\n",
       "      <td>none</td>\n",
       "      <td>yes</td>\n",
       "    </tr>\n",
       "  </tbody>\n",
       "</table>\n",
       "</div>"
      ],
      "text/plain": [
       "                   credit_history              purpose  credit_amount  \\\n",
       "0  critical/other existing credit             radio/tv         1169.0   \n",
       "1                   existing paid             radio/tv         5951.0   \n",
       "2  critical/other existing credit            education         2096.0   \n",
       "3                   existing paid  furniture/equipment         7882.0   \n",
       "4              delayed previously              new car         4870.0   \n",
       "\n",
       "     savings_status  existing_credits                 job own_telephone  \\\n",
       "0  no known savings                 2             skilled           yes   \n",
       "1              <100                 1             skilled          none   \n",
       "2              <100                 1  unskilled resident          none   \n",
       "3              <100                 1             skilled          none   \n",
       "4              <100                 2             skilled          none   \n",
       "\n",
       "  foreign_worker  \n",
       "0            yes  \n",
       "1            yes  \n",
       "2            yes  \n",
       "3            yes  \n",
       "4            yes  "
      ]
     },
     "execution_count": 7,
     "metadata": {},
     "output_type": "execute_result"
    }
   ],
   "source": [
    "df.head()"
   ]
  },
  {
   "cell_type": "code",
   "execution_count": 8,
   "metadata": {},
   "outputs": [
    {
     "data": {
      "text/plain": [
       "existing paid                     530\n",
       "critical/other existing credit    293\n",
       "delayed previously                 88\n",
       "all paid                           49\n",
       "no credits/all paid                40\n",
       "Name: credit_history, dtype: int64"
      ]
     },
     "execution_count": 8,
     "metadata": {},
     "output_type": "execute_result"
    }
   ],
   "source": [
    "df[\"credit_history\"].value_counts()"
   ]
  },
  {
   "cell_type": "code",
   "execution_count": 9,
   "metadata": {},
   "outputs": [
    {
     "data": {
      "text/plain": [
       "<AxesSubplot:title={'center':'Credit History'}>"
      ]
     },
     "execution_count": 9,
     "metadata": {},
     "output_type": "execute_result"
    },
    {
     "data": {
      "application/pdf": "[encoded data removed]",
      "image/png": "[encoded data removed]",
      "text/plain": [
       "<Figure size 576x360 with 1 Axes>"
      ]
     },
     "metadata": {},
     "output_type": "display_data"
    }
   ],
   "source": [
    "df[\"credit_history\"].value_counts().plot(kind=\"bar\", title=\"Credit History\", fontsize=14, figsize=(8,5))"
   ]
  },
  {
   "cell_type": "markdown",
   "metadata": {},
   "source": [
    "## Exercise 1 - Support Distance Algorithms\n"
   ]
  },
  {
   "cell_type": "markdown",
   "metadata": {},
   "source": [
    "### Exercise 1.1\n",
    "\n",
    "Convert all categorical features to support one-hot-vector encoding. "
   ]
  },
  {
   "cell_type": "code",
   "execution_count": 10,
   "metadata": {},
   "outputs": [
    {
     "data": {
      "text/html": [
       "<div>\n",
       "<style scoped>\n",
       "    .dataframe tbody tr th:only-of-type {\n",
       "        vertical-align: middle;\n",
       "    }\n",
       "\n",
       "    .dataframe tbody tr th {\n",
       "        vertical-align: top;\n",
       "    }\n",
       "\n",
       "    .dataframe thead th {\n",
       "        text-align: right;\n",
       "    }\n",
       "</style>\n",
       "<table border=\"1\" class=\"dataframe\">\n",
       "  <thead>\n",
       "    <tr style=\"text-align: right;\">\n",
       "      <th></th>\n",
       "      <th>credit_amount</th>\n",
       "      <th>existing_credits</th>\n",
       "      <th>credit_history_no credits/all paid</th>\n",
       "      <th>credit_history_all paid</th>\n",
       "      <th>...</th>\n",
       "      <th>own_telephone_none</th>\n",
       "      <th>own_telephone_yes</th>\n",
       "      <th>foreign_worker_yes</th>\n",
       "      <th>foreign_worker_no</th>\n",
       "    </tr>\n",
       "  </thead>\n",
       "  <tbody>\n",
       "    <tr>\n",
       "      <th>0</th>\n",
       "      <td>1169.0</td>\n",
       "      <td>2</td>\n",
       "      <td>0</td>\n",
       "      <td>0</td>\n",
       "      <td>...</td>\n",
       "      <td>0</td>\n",
       "      <td>1</td>\n",
       "      <td>1</td>\n",
       "      <td>0</td>\n",
       "    </tr>\n",
       "    <tr>\n",
       "      <th>1</th>\n",
       "      <td>5951.0</td>\n",
       "      <td>1</td>\n",
       "      <td>0</td>\n",
       "      <td>0</td>\n",
       "      <td>...</td>\n",
       "      <td>1</td>\n",
       "      <td>0</td>\n",
       "      <td>1</td>\n",
       "      <td>0</td>\n",
       "    </tr>\n",
       "    <tr>\n",
       "      <th>2</th>\n",
       "      <td>2096.0</td>\n",
       "      <td>1</td>\n",
       "      <td>0</td>\n",
       "      <td>0</td>\n",
       "      <td>...</td>\n",
       "      <td>1</td>\n",
       "      <td>0</td>\n",
       "      <td>1</td>\n",
       "      <td>0</td>\n",
       "    </tr>\n",
       "    <tr>\n",
       "      <th>3</th>\n",
       "      <td>7882.0</td>\n",
       "      <td>1</td>\n",
       "      <td>0</td>\n",
       "      <td>0</td>\n",
       "      <td>...</td>\n",
       "      <td>1</td>\n",
       "      <td>0</td>\n",
       "      <td>1</td>\n",
       "      <td>0</td>\n",
       "    </tr>\n",
       "    <tr>\n",
       "      <th>4</th>\n",
       "      <td>4870.0</td>\n",
       "      <td>2</td>\n",
       "      <td>0</td>\n",
       "      <td>0</td>\n",
       "      <td>...</td>\n",
       "      <td>1</td>\n",
       "      <td>0</td>\n",
       "      <td>1</td>\n",
       "      <td>0</td>\n",
       "    </tr>\n",
       "  </tbody>\n",
       "</table>\n",
       "<p>5 rows × 31 columns</p>\n",
       "</div>"
      ],
      "text/plain": [
       "   credit_amount  existing_credits  credit_history_no credits/all paid  \\\n",
       "0         1169.0                 2                                   0   \n",
       "1         5951.0                 1                                   0   \n",
       "2         2096.0                 1                                   0   \n",
       "3         7882.0                 1                                   0   \n",
       "4         4870.0                 2                                   0   \n",
       "\n",
       "   credit_history_all paid  ...  own_telephone_none  own_telephone_yes  \\\n",
       "0                        0  ...                   0                  1   \n",
       "1                        0  ...                   1                  0   \n",
       "2                        0  ...                   1                  0   \n",
       "3                        0  ...                   1                  0   \n",
       "4                        0  ...                   1                  0   \n",
       "\n",
       "   foreign_worker_yes  foreign_worker_no  \n",
       "0                   1                  0  \n",
       "1                   1                  0  \n",
       "2                   1                  0  \n",
       "3                   1                  0  \n",
       "4                   1                  0  \n",
       "\n",
       "[5 rows x 31 columns]"
      ]
     },
     "execution_count": 10,
     "metadata": {},
     "output_type": "execute_result"
    }
   ],
   "source": [
    "dummy_data = pd.get_dummies(df)\n",
    "dummy_data.head()"
   ]
  },
  {
   "cell_type": "markdown",
   "metadata": {},
   "source": [
    "### Exercise 1.2\n",
    "\n",
    "Normalize all features to the closed range zero to one."
   ]
  },
  {
   "cell_type": "code",
   "execution_count": 11,
   "metadata": {},
   "outputs": [],
   "source": [
    "for col in dummy_data:\n",
    "    dummy_data[col] = (dummy_data[col] - dummy_data[col].min()) / (dummy_data[col].max() - dummy_data[col].min())"
   ]
  },
  {
   "cell_type": "code",
   "execution_count": 12,
   "metadata": {},
   "outputs": [
    {
     "data": {
      "text/html": [
       "<div>\n",
       "<style scoped>\n",
       "    .dataframe tbody tr th:only-of-type {\n",
       "        vertical-align: middle;\n",
       "    }\n",
       "\n",
       "    .dataframe tbody tr th {\n",
       "        vertical-align: top;\n",
       "    }\n",
       "\n",
       "    .dataframe thead th {\n",
       "        text-align: right;\n",
       "    }\n",
       "</style>\n",
       "<table border=\"1\" class=\"dataframe\">\n",
       "  <thead>\n",
       "    <tr style=\"text-align: right;\">\n",
       "      <th></th>\n",
       "      <th>credit_amount</th>\n",
       "      <th>existing_credits</th>\n",
       "      <th>credit_history_no credits/all paid</th>\n",
       "      <th>credit_history_all paid</th>\n",
       "      <th>...</th>\n",
       "      <th>own_telephone_none</th>\n",
       "      <th>own_telephone_yes</th>\n",
       "      <th>foreign_worker_yes</th>\n",
       "      <th>foreign_worker_no</th>\n",
       "    </tr>\n",
       "  </thead>\n",
       "  <tbody>\n",
       "    <tr>\n",
       "      <th>0</th>\n",
       "      <td>0.05</td>\n",
       "      <td>0.33</td>\n",
       "      <td>0.0</td>\n",
       "      <td>0.0</td>\n",
       "      <td>...</td>\n",
       "      <td>0.0</td>\n",
       "      <td>1.0</td>\n",
       "      <td>1.0</td>\n",
       "      <td>0.0</td>\n",
       "    </tr>\n",
       "    <tr>\n",
       "      <th>1</th>\n",
       "      <td>0.31</td>\n",
       "      <td>0.00</td>\n",
       "      <td>0.0</td>\n",
       "      <td>0.0</td>\n",
       "      <td>...</td>\n",
       "      <td>1.0</td>\n",
       "      <td>0.0</td>\n",
       "      <td>1.0</td>\n",
       "      <td>0.0</td>\n",
       "    </tr>\n",
       "    <tr>\n",
       "      <th>2</th>\n",
       "      <td>0.10</td>\n",
       "      <td>0.00</td>\n",
       "      <td>0.0</td>\n",
       "      <td>0.0</td>\n",
       "      <td>...</td>\n",
       "      <td>1.0</td>\n",
       "      <td>0.0</td>\n",
       "      <td>1.0</td>\n",
       "      <td>0.0</td>\n",
       "    </tr>\n",
       "    <tr>\n",
       "      <th>3</th>\n",
       "      <td>0.42</td>\n",
       "      <td>0.00</td>\n",
       "      <td>0.0</td>\n",
       "      <td>0.0</td>\n",
       "      <td>...</td>\n",
       "      <td>1.0</td>\n",
       "      <td>0.0</td>\n",
       "      <td>1.0</td>\n",
       "      <td>0.0</td>\n",
       "    </tr>\n",
       "    <tr>\n",
       "      <th>4</th>\n",
       "      <td>0.25</td>\n",
       "      <td>0.33</td>\n",
       "      <td>0.0</td>\n",
       "      <td>0.0</td>\n",
       "      <td>...</td>\n",
       "      <td>1.0</td>\n",
       "      <td>0.0</td>\n",
       "      <td>1.0</td>\n",
       "      <td>0.0</td>\n",
       "    </tr>\n",
       "  </tbody>\n",
       "</table>\n",
       "<p>5 rows × 31 columns</p>\n",
       "</div>"
      ],
      "text/plain": [
       "   credit_amount  existing_credits  credit_history_no credits/all paid  \\\n",
       "0           0.05              0.33                                 0.0   \n",
       "1           0.31              0.00                                 0.0   \n",
       "2           0.10              0.00                                 0.0   \n",
       "3           0.42              0.00                                 0.0   \n",
       "4           0.25              0.33                                 0.0   \n",
       "\n",
       "   credit_history_all paid  ...  own_telephone_none  own_telephone_yes  \\\n",
       "0                      0.0  ...                 0.0                1.0   \n",
       "1                      0.0  ...                 1.0                0.0   \n",
       "2                      0.0  ...                 1.0                0.0   \n",
       "3                      0.0  ...                 1.0                0.0   \n",
       "4                      0.0  ...                 1.0                0.0   \n",
       "\n",
       "   foreign_worker_yes  foreign_worker_no  \n",
       "0                 1.0                0.0  \n",
       "1                 1.0                0.0  \n",
       "2                 1.0                0.0  \n",
       "3                 1.0                0.0  \n",
       "4                 1.0                0.0  \n",
       "\n",
       "[5 rows x 31 columns]"
      ]
     },
     "execution_count": 12,
     "metadata": {},
     "output_type": "execute_result"
    }
   ],
   "source": [
    "dummy_data.head()"
   ]
  },
  {
   "cell_type": "markdown",
   "metadata": {},
   "source": [
    "### Exercise 1.3\n",
    "\n",
    "Remove all NULL values"
   ]
  },
  {
   "cell_type": "code",
   "execution_count": 13,
   "metadata": {},
   "outputs": [
    {
     "data": {
      "text/plain": [
       "credit_amount                                       0\n",
       "existing_credits                                    0\n",
       "credit_history_no credits/all paid                  0\n",
       "credit_history_all paid                             0\n",
       "credit_history_existing paid                        0\n",
       "credit_history_delayed previously                   0\n",
       "credit_history_critical/other existing credit       0\n",
       "purpose_new car                                     0\n",
       "purpose_used car                                    0\n",
       "purpose_furniture/equipment                         0\n",
       "purpose_radio/tv                                    0\n",
       "purpose_domestic appliance                          0\n",
       "purpose_repairs                                     0\n",
       "purpose_education                                   0\n",
       "purpose_vacation                                 1000\n",
       "purpose_retraining                                  0\n",
       "purpose_business                                    0\n",
       "purpose_other                                       0\n",
       "savings_status_<100                                 0\n",
       "savings_status_100<=X<500                           0\n",
       "savings_status_500<=X<1000                          0\n",
       "savings_status_>=1000                               0\n",
       "savings_status_no known savings                     0\n",
       "job_unemp/unskilled non res                         0\n",
       "job_unskilled resident                              0\n",
       "job_skilled                                         0\n",
       "job_high qualif/self emp/mgmt                       0\n",
       "own_telephone_none                                  0\n",
       "own_telephone_yes                                   0\n",
       "foreign_worker_yes                                  0\n",
       "foreign_worker_no                                   0\n",
       "dtype: int64"
      ]
     },
     "execution_count": 13,
     "metadata": {},
     "output_type": "execute_result"
    }
   ],
   "source": [
    "dummy_data.isna().sum()"
   ]
  },
  {
   "cell_type": "code",
   "execution_count": 14,
   "metadata": {},
   "outputs": [],
   "source": [
    "dummy_data.drop(columns=[\"purpose_vacation\"], inplace=True)"
   ]
  },
  {
   "cell_type": "markdown",
   "metadata": {},
   "source": [
    "### Exercise 1.4\n",
    "\n",
    "Run K-Means and use the elbow method to estimate the number of clusters. \n",
    "\n",
    "![K_Means_Elbow_Method](https://raw.githubusercontent.com/satishgunjal/images/master/K_Means_Elbow_Method.png)\n"
   ]
  },
  {
   "cell_type": "code",
   "execution_count": 15,
   "metadata": {},
   "outputs": [],
   "source": [
    "def get_kmeans_accuracy(data, top_k):\n",
    "    sum_squared = []\n",
    "    silhouette = []\n",
    "    K = range(2, top_k)\n",
    "    for i in K:\n",
    "        kmeans = KMeans(n_clusters = i, init = 'k-means++')\n",
    "        kmeans.fit(data)\n",
    "        sum_squared.append(kmeans.inertia_)\n",
    "        silhouette.append(silhouette_score(data, kmeans.labels_))\n",
    "    return pd.DataFrame({\n",
    "    \"K\": K,\n",
    "    \"SSE\": sum_squared,\n",
    "    \"SIL\": silhouette\n",
    "  })"
   ]
  },
  {
   "cell_type": "code",
   "execution_count": 16,
   "metadata": {},
   "outputs": [],
   "source": [
    "result = get_kmeans_accuracy(dummy_data, 10)\n",
    "result.set_index(\"K\", inplace=True)"
   ]
  },
  {
   "cell_type": "code",
   "execution_count": 17,
   "metadata": {},
   "outputs": [
    {
     "data": {
      "text/plain": [
       "<AxesSubplot:xlabel='K'>"
      ]
     },
     "execution_count": 17,
     "metadata": {},
     "output_type": "execute_result"
    },
    {
     "data": {
      "application/pdf": "[encoded data removed]",
      "image/png": "[encoded data removed]",
      "text/plain": [
       "<Figure size 648x360 with 1 Axes>"
      ]
     },
     "metadata": {},
     "output_type": "display_data"
    }
   ],
   "source": [
    "result[\"SSE\"].plot(linewidth=2, figsize=(9,5))"
   ]
  },
  {
   "cell_type": "markdown",
   "metadata": {},
   "source": [
    "### Exercise 1.5\n",
    "\n",
    "1. Choose the near optimal K by the elbow method. \n",
    "2. Create the clusters and plot their silhouette score."
   ]
  },
  {
   "cell_type": "code",
   "execution_count": 26,
   "metadata": {},
   "outputs": [
    {
     "data": {
      "text/plain": [
       "KMeans(n_clusters=5)"
      ]
     },
     "execution_count": 26,
     "metadata": {},
     "output_type": "execute_result"
    }
   ],
   "source": [
    "kmeans = KMeans(n_clusters = 5, init = 'k-means++')\n",
    "kmeans.fit(dummy_data)"
   ]
  },
  {
   "cell_type": "code",
   "execution_count": 27,
   "metadata": {},
   "outputs": [
    {
     "data": {
      "text/plain": [
       "0.16029052490879467"
      ]
     },
     "execution_count": 27,
     "metadata": {},
     "output_type": "execute_result"
    }
   ],
   "source": [
    "silhouette_score(dummy_data, kmeans.labels_)"
   ]
  },
  {
   "cell_type": "markdown",
   "metadata": {},
   "source": [
    "## Exercise 2 - Support Non-Metric Algorithms\n"
   ]
  },
  {
   "cell_type": "markdown",
   "metadata": {},
   "source": [
    "### Exercise 2.1\n",
    "\n",
    "Encode variables using LabelEncoder\n"
   ]
  },
  {
   "cell_type": "code",
   "execution_count": 20,
   "metadata": {},
   "outputs": [
    {
     "data": {
      "text/html": [
       "<div>\n",
       "<style scoped>\n",
       "    .dataframe tbody tr th:only-of-type {\n",
       "        vertical-align: middle;\n",
       "    }\n",
       "\n",
       "    .dataframe tbody tr th {\n",
       "        vertical-align: top;\n",
       "    }\n",
       "\n",
       "    .dataframe thead th {\n",
       "        text-align: right;\n",
       "    }\n",
       "</style>\n",
       "<table border=\"1\" class=\"dataframe\">\n",
       "  <thead>\n",
       "    <tr style=\"text-align: right;\">\n",
       "      <th></th>\n",
       "      <th>credit_history</th>\n",
       "      <th>purpose</th>\n",
       "      <th>credit_amount</th>\n",
       "      <th>savings_status</th>\n",
       "      <th>existing_credits</th>\n",
       "      <th>job</th>\n",
       "      <th>own_telephone</th>\n",
       "      <th>foreign_worker</th>\n",
       "    </tr>\n",
       "  </thead>\n",
       "  <tbody>\n",
       "    <tr>\n",
       "      <th>0</th>\n",
       "      <td>1</td>\n",
       "      <td>6</td>\n",
       "      <td>142</td>\n",
       "      <td>4</td>\n",
       "      <td>1</td>\n",
       "      <td>1</td>\n",
       "      <td>1</td>\n",
       "      <td>1</td>\n",
       "    </tr>\n",
       "    <tr>\n",
       "      <th>1</th>\n",
       "      <td>3</td>\n",
       "      <td>6</td>\n",
       "      <td>770</td>\n",
       "      <td>2</td>\n",
       "      <td>0</td>\n",
       "      <td>1</td>\n",
       "      <td>0</td>\n",
       "      <td>1</td>\n",
       "    </tr>\n",
       "    <tr>\n",
       "      <th>2</th>\n",
       "      <td>1</td>\n",
       "      <td>2</td>\n",
       "      <td>390</td>\n",
       "      <td>2</td>\n",
       "      <td>0</td>\n",
       "      <td>3</td>\n",
       "      <td>0</td>\n",
       "      <td>1</td>\n",
       "    </tr>\n",
       "    <tr>\n",
       "      <th>3</th>\n",
       "      <td>3</td>\n",
       "      <td>3</td>\n",
       "      <td>848</td>\n",
       "      <td>2</td>\n",
       "      <td>0</td>\n",
       "      <td>1</td>\n",
       "      <td>0</td>\n",
       "      <td>1</td>\n",
       "    </tr>\n",
       "    <tr>\n",
       "      <th>4</th>\n",
       "      <td>2</td>\n",
       "      <td>4</td>\n",
       "      <td>734</td>\n",
       "      <td>2</td>\n",
       "      <td>1</td>\n",
       "      <td>1</td>\n",
       "      <td>0</td>\n",
       "      <td>1</td>\n",
       "    </tr>\n",
       "  </tbody>\n",
       "</table>\n",
       "</div>"
      ],
      "text/plain": [
       "   credit_history  purpose  credit_amount  savings_status  existing_credits  \\\n",
       "0               1        6            142               4                 1   \n",
       "1               3        6            770               2                 0   \n",
       "2               1        2            390               2                 0   \n",
       "3               3        3            848               2                 0   \n",
       "4               2        4            734               2                 1   \n",
       "\n",
       "   job  own_telephone  foreign_worker  \n",
       "0    1              1               1  \n",
       "1    1              0               1  \n",
       "2    3              0               1  \n",
       "3    1              0               1  \n",
       "4    1              0               1  "
      ]
     },
     "execution_count": 20,
     "metadata": {},
     "output_type": "execute_result"
    }
   ],
   "source": [
    "new_df = df.copy()\n",
    "for col in new_df:\n",
    "    le = LabelEncoder()\n",
    "    new_df[col] = le.fit_transform(new_df[col])\n",
    "new_df.head()"
   ]
  },
  {
   "cell_type": "markdown",
   "metadata": {},
   "source": [
    "### Exercise 2.2\n",
    "\n",
    "Use 25% of training set and evaulate the results (present the confusion matrix)"
   ]
  },
  {
   "cell_type": "code",
   "execution_count": 21,
   "metadata": {},
   "outputs": [],
   "source": [
    "x_train,x_test,y_train,y_test = train_test_split(new_df,y, test_size=0.25)"
   ]
  },
  {
   "cell_type": "markdown",
   "metadata": {},
   "source": [
    "### Exercise 2.3\n",
    "\n",
    "Use the target variable and train Decision Tree classifier."
   ]
  },
  {
   "cell_type": "code",
   "execution_count": 22,
   "metadata": {},
   "outputs": [
    {
     "data": {
      "text/plain": [
       "DecisionTreeClassifier()"
      ]
     },
     "execution_count": 22,
     "metadata": {},
     "output_type": "execute_result"
    }
   ],
   "source": [
    "tree = DecisionTreeClassifier()\n",
    "tree.fit(x_train,y_train)"
   ]
  },
  {
   "cell_type": "markdown",
   "metadata": {},
   "source": [
    "### Exercise 2.4\n",
    "\n",
    "Print the confusion matrix and the accuracy score of the model."
   ]
  },
  {
   "cell_type": "code",
   "execution_count": 23,
   "metadata": {},
   "outputs": [
    {
     "data": {
      "text/plain": [
       "array([[ 24,  47],\n",
       "       [ 47, 132]])"
      ]
     },
     "execution_count": 23,
     "metadata": {},
     "output_type": "execute_result"
    }
   ],
   "source": [
    "y_pred = tree.predict(x_test)\n",
    "metrics.confusion_matrix(y_test,y_pred)"
   ]
  },
  {
   "cell_type": "code",
   "execution_count": 24,
   "metadata": {},
   "outputs": [
    {
     "data": {
      "text/plain": [
       "0.624"
      ]
     },
     "execution_count": 24,
     "metadata": {},
     "output_type": "execute_result"
    }
   ],
   "source": [
    "metrics.accuracy_score(y_test,y_pred)"
   ]
  },
  {
   "cell_type": "code",
   "execution_count": 25,
   "metadata": {},
   "outputs": [
    {
     "name": "stdout",
     "output_type": "stream",
     "text": [
      "|--- credit_amount <= 667.50\n",
      "|   |--- credit_history <= 3.50\n",
      "|   |   |--- purpose <= 7.50\n",
      "|   |   |   |--- credit_history <= 0.50\n",
      "|   |   |   |   |--- credit_amount <= 284.50\n",
      "|   |   |   |   |   |--- purpose <= 5.50\n",
      "|   |   |   |   |   |   |--- class: bad\n",
      "|   |   |   |   |   |--- purpose >  5.50\n",
      "|   |   |   |   |   |   |--- savings_status <= 2.50\n",
      "|   |   |   |   |   |   |   |--- credit_amount <= 70.00\n",
      "|   |   |   |   |   |   |   |   |--- class: bad\n",
      "|   |   |   |   |   |   |   |--- credit_amount >  70.00\n",
      "|   |   |   |   |   |   |   |   |--- credit_amount <= 197.00\n",
      "|   |   |   |   |   |   |   |   |   |--- class: good\n",
      "|   |   |   |   |   |   |   |   |--- credit_amount >  197.00\n",
      "|   |   |   |   |   |   |   |   |   |--- class: bad\n",
      "|   |   |   |   |   |   |--- savings_status >  2.50\n",
      "|   |   |   |   |   |   |   |--- class: good\n",
      "|   |   |   |   |--- credit_amount >  284.50\n",
      "|   |   |   |   |   |--- credit_amount <= 555.00\n",
      "|   |   |   |   |   |   |--- purpose <= 2.50\n",
      "|   |   |   |   |   |   |   |--- purpose <= 1.00\n",
      "|   |   |   |   |   |   |   |   |--- class: good\n",
      "|   |   |   |   |   |   |   |--- purpose >  1.00\n",
      "|   |   |   |   |   |   |   |   |--- class: bad\n",
      "|   |   |   |   |   |   |--- purpose >  2.50\n",
      "|   |   |   |   |   |   |   |--- class: good\n",
      "|   |   |   |   |   |--- credit_amount >  555.00\n",
      "|   |   |   |   |   |   |--- savings_status <= 0.50\n",
      "|   |   |   |   |   |   |   |--- class: good\n",
      "|   |   |   |   |   |   |--- savings_status >  0.50\n",
      "|   |   |   |   |   |   |   |--- class: bad\n",
      "|   |   |   |--- credit_history >  0.50\n",
      "|   |   |   |   |--- credit_history <= 1.50\n",
      "|   |   |   |   |   |--- savings_status <= 2.50\n",
      "|   |   |   |   |   |   |--- purpose <= 4.50\n",
      "|   |   |   |   |   |   |   |--- credit_amount <= 260.00\n",
      "|   |   |   |   |   |   |   |   |--- credit_amount <= 162.50\n",
      "|   |   |   |   |   |   |   |   |   |--- credit_amount <= 146.50\n",
      "|   |   |   |   |   |   |   |   |   |   |--- existing_credits <= 1.50\n",
      "|   |   |   |   |   |   |   |   |   |   |   |--- truncated branch of depth 4\n",
      "|   |   |   |   |   |   |   |   |   |   |--- existing_credits >  1.50\n",
      "|   |   |   |   |   |   |   |   |   |   |   |--- truncated branch of depth 2\n",
      "|   |   |   |   |   |   |   |   |   |--- credit_amount >  146.50\n",
      "|   |   |   |   |   |   |   |   |   |   |--- class: bad\n",
      "|   |   |   |   |   |   |   |   |--- credit_amount >  162.50\n",
      "|   |   |   |   |   |   |   |   |   |--- class: good\n",
      "|   |   |   |   |   |   |   |--- credit_amount >  260.00\n",
      "|   |   |   |   |   |   |   |   |--- credit_amount <= 271.50\n",
      "|   |   |   |   |   |   |   |   |   |--- class: bad\n",
      "|   |   |   |   |   |   |   |   |--- credit_amount >  271.50\n",
      "|   |   |   |   |   |   |   |   |   |--- credit_amount <= 618.50\n",
      "|   |   |   |   |   |   |   |   |   |   |--- credit_amount <= 415.00\n",
      "|   |   |   |   |   |   |   |   |   |   |   |--- truncated branch of depth 5\n",
      "|   |   |   |   |   |   |   |   |   |   |--- credit_amount >  415.00\n",
      "|   |   |   |   |   |   |   |   |   |   |   |--- truncated branch of depth 9\n",
      "|   |   |   |   |   |   |   |   |   |--- credit_amount >  618.50\n",
      "|   |   |   |   |   |   |   |   |   |   |--- class: good\n",
      "|   |   |   |   |   |   |--- purpose >  4.50\n",
      "|   |   |   |   |   |   |   |--- credit_amount <= 179.50\n",
      "|   |   |   |   |   |   |   |   |--- credit_amount <= 143.00\n",
      "|   |   |   |   |   |   |   |   |   |--- class: good\n",
      "|   |   |   |   |   |   |   |   |--- credit_amount >  143.00\n",
      "|   |   |   |   |   |   |   |   |   |--- credit_amount <= 162.50\n",
      "|   |   |   |   |   |   |   |   |   |   |--- class: bad\n",
      "|   |   |   |   |   |   |   |   |   |--- credit_amount >  162.50\n",
      "|   |   |   |   |   |   |   |   |   |   |--- credit_amount <= 169.50\n",
      "|   |   |   |   |   |   |   |   |   |   |   |--- class: good\n",
      "|   |   |   |   |   |   |   |   |   |   |--- credit_amount >  169.50\n",
      "|   |   |   |   |   |   |   |   |   |   |   |--- class: bad\n",
      "|   |   |   |   |   |   |   |--- credit_amount >  179.50\n",
      "|   |   |   |   |   |   |   |   |--- savings_status <= 1.50\n",
      "|   |   |   |   |   |   |   |   |   |--- job <= 2.00\n",
      "|   |   |   |   |   |   |   |   |   |   |--- class: good\n",
      "|   |   |   |   |   |   |   |   |   |--- job >  2.00\n",
      "|   |   |   |   |   |   |   |   |   |   |--- credit_amount <= 338.50\n",
      "|   |   |   |   |   |   |   |   |   |   |   |--- class: good\n",
      "|   |   |   |   |   |   |   |   |   |   |--- credit_amount >  338.50\n",
      "|   |   |   |   |   |   |   |   |   |   |   |--- class: bad\n",
      "|   |   |   |   |   |   |   |   |--- savings_status >  1.50\n",
      "|   |   |   |   |   |   |   |   |   |--- class: good\n",
      "|   |   |   |   |   |--- savings_status >  2.50\n",
      "|   |   |   |   |   |   |--- credit_amount <= 85.00\n",
      "|   |   |   |   |   |   |   |--- existing_credits <= 0.50\n",
      "|   |   |   |   |   |   |   |   |--- class: bad\n",
      "|   |   |   |   |   |   |   |--- existing_credits >  0.50\n",
      "|   |   |   |   |   |   |   |   |--- class: good\n",
      "|   |   |   |   |   |   |--- credit_amount >  85.00\n",
      "|   |   |   |   |   |   |   |--- class: good\n",
      "|   |   |   |   |--- credit_history >  1.50\n",
      "|   |   |   |   |   |--- credit_amount <= 610.50\n",
      "|   |   |   |   |   |   |--- credit_amount <= 38.50\n",
      "|   |   |   |   |   |   |   |--- purpose <= 5.00\n",
      "|   |   |   |   |   |   |   |   |--- own_telephone <= 0.50\n",
      "|   |   |   |   |   |   |   |   |   |--- credit_amount <= 30.50\n",
      "|   |   |   |   |   |   |   |   |   |   |--- purpose <= 2.50\n",
      "|   |   |   |   |   |   |   |   |   |   |   |--- truncated branch of depth 2\n",
      "|   |   |   |   |   |   |   |   |   |   |--- purpose >  2.50\n",
      "|   |   |   |   |   |   |   |   |   |   |   |--- class: good\n",
      "|   |   |   |   |   |   |   |   |   |--- credit_amount >  30.50\n",
      "|   |   |   |   |   |   |   |   |   |   |--- class: bad\n",
      "|   |   |   |   |   |   |   |   |--- own_telephone >  0.50\n",
      "|   |   |   |   |   |   |   |   |   |--- class: good\n",
      "|   |   |   |   |   |   |   |--- purpose >  5.00\n",
      "|   |   |   |   |   |   |   |   |--- class: good\n",
      "|   |   |   |   |   |   |--- credit_amount >  38.50\n",
      "|   |   |   |   |   |   |   |--- credit_amount <= 114.50\n",
      "|   |   |   |   |   |   |   |   |--- savings_status <= 0.50\n",
      "|   |   |   |   |   |   |   |   |   |--- class: bad\n",
      "|   |   |   |   |   |   |   |   |--- savings_status >  0.50\n",
      "|   |   |   |   |   |   |   |   |   |--- own_telephone <= 0.50\n",
      "|   |   |   |   |   |   |   |   |   |   |--- purpose <= 5.00\n",
      "|   |   |   |   |   |   |   |   |   |   |   |--- truncated branch of depth 6\n",
      "|   |   |   |   |   |   |   |   |   |   |--- purpose >  5.00\n",
      "|   |   |   |   |   |   |   |   |   |   |   |--- truncated branch of depth 5\n",
      "|   |   |   |   |   |   |   |   |   |--- own_telephone >  0.50\n",
      "|   |   |   |   |   |   |   |   |   |   |--- class: good\n",
      "|   |   |   |   |   |   |   |--- credit_amount >  114.50\n",
      "|   |   |   |   |   |   |   |   |--- credit_history <= 2.50\n",
      "|   |   |   |   |   |   |   |   |   |--- credit_amount <= 429.50\n",
      "|   |   |   |   |   |   |   |   |   |   |--- credit_amount <= 317.50\n",
      "|   |   |   |   |   |   |   |   |   |   |   |--- truncated branch of depth 5\n",
      "|   |   |   |   |   |   |   |   |   |   |--- credit_amount >  317.50\n",
      "|   |   |   |   |   |   |   |   |   |   |   |--- class: bad\n",
      "|   |   |   |   |   |   |   |   |   |--- credit_amount >  429.50\n",
      "|   |   |   |   |   |   |   |   |   |   |--- job <= 2.00\n",
      "|   |   |   |   |   |   |   |   |   |   |   |--- truncated branch of depth 2\n",
      "|   |   |   |   |   |   |   |   |   |   |--- job >  2.00\n",
      "|   |   |   |   |   |   |   |   |   |   |   |--- truncated branch of depth 2\n",
      "|   |   |   |   |   |   |   |   |--- credit_history >  2.50\n",
      "|   |   |   |   |   |   |   |   |   |--- purpose <= 0.50\n",
      "|   |   |   |   |   |   |   |   |   |   |--- class: good\n",
      "|   |   |   |   |   |   |   |   |   |--- purpose >  0.50\n",
      "|   |   |   |   |   |   |   |   |   |   |--- credit_amount <= 158.00\n",
      "|   |   |   |   |   |   |   |   |   |   |   |--- truncated branch of depth 3\n",
      "|   |   |   |   |   |   |   |   |   |   |--- credit_amount >  158.00\n",
      "|   |   |   |   |   |   |   |   |   |   |   |--- truncated branch of depth 17\n",
      "|   |   |   |   |   |--- credit_amount >  610.50\n",
      "|   |   |   |   |   |   |--- existing_credits <= 0.50\n",
      "|   |   |   |   |   |   |   |--- class: good\n",
      "|   |   |   |   |   |   |--- existing_credits >  0.50\n",
      "|   |   |   |   |   |   |   |--- purpose <= 5.00\n",
      "|   |   |   |   |   |   |   |   |--- class: good\n",
      "|   |   |   |   |   |   |   |--- purpose >  5.00\n",
      "|   |   |   |   |   |   |   |   |--- class: bad\n",
      "|   |   |--- purpose >  7.50\n",
      "|   |   |   |--- credit_amount <= 599.50\n",
      "|   |   |   |   |--- class: good\n",
      "|   |   |   |--- credit_amount >  599.50\n",
      "|   |   |   |   |--- credit_amount <= 606.00\n",
      "|   |   |   |   |   |--- class: bad\n",
      "|   |   |   |   |--- credit_amount >  606.00\n",
      "|   |   |   |   |   |--- class: good\n",
      "|   |--- credit_history >  3.50\n",
      "|   |   |--- purpose <= 7.50\n",
      "|   |   |   |--- credit_amount <= 53.50\n",
      "|   |   |   |   |--- class: good\n",
      "|   |   |   |--- credit_amount >  53.50\n",
      "|   |   |   |   |--- credit_amount <= 428.50\n",
      "|   |   |   |   |   |--- class: bad\n",
      "|   |   |   |   |--- credit_amount >  428.50\n",
      "|   |   |   |   |   |--- existing_credits <= 0.50\n",
      "|   |   |   |   |   |   |--- class: bad\n",
      "|   |   |   |   |   |--- existing_credits >  0.50\n",
      "|   |   |   |   |   |   |--- credit_amount <= 533.50\n",
      "|   |   |   |   |   |   |   |--- class: good\n",
      "|   |   |   |   |   |   |--- credit_amount >  533.50\n",
      "|   |   |   |   |   |   |   |--- own_telephone <= 0.50\n",
      "|   |   |   |   |   |   |   |   |--- class: bad\n",
      "|   |   |   |   |   |   |   |--- own_telephone >  0.50\n",
      "|   |   |   |   |   |   |   |   |--- class: good\n",
      "|   |   |--- purpose >  7.50\n",
      "|   |   |   |--- class: good\n",
      "|--- credit_amount >  667.50\n",
      "|   |--- purpose <= 4.50\n",
      "|   |   |--- savings_status <= 3.50\n",
      "|   |   |   |--- credit_amount <= 839.50\n",
      "|   |   |   |   |--- credit_amount <= 824.50\n",
      "|   |   |   |   |   |--- credit_history <= 0.50\n",
      "|   |   |   |   |   |   |--- class: bad\n",
      "|   |   |   |   |   |--- credit_history >  0.50\n",
      "|   |   |   |   |   |   |--- savings_status <= 1.50\n",
      "|   |   |   |   |   |   |   |--- job <= 0.50\n",
      "|   |   |   |   |   |   |   |   |--- class: bad\n",
      "|   |   |   |   |   |   |   |--- job >  0.50\n",
      "|   |   |   |   |   |   |   |   |--- credit_amount <= 783.50\n",
      "|   |   |   |   |   |   |   |   |   |--- class: good\n",
      "|   |   |   |   |   |   |   |   |--- credit_amount >  783.50\n",
      "|   |   |   |   |   |   |   |   |   |--- class: bad\n",
      "|   |   |   |   |   |   |--- savings_status >  1.50\n",
      "|   |   |   |   |   |   |   |--- credit_history <= 1.50\n",
      "|   |   |   |   |   |   |   |   |--- credit_amount <= 685.50\n",
      "|   |   |   |   |   |   |   |   |   |--- class: bad\n",
      "|   |   |   |   |   |   |   |   |--- credit_amount >  685.50\n",
      "|   |   |   |   |   |   |   |   |   |--- credit_amount <= 716.50\n",
      "|   |   |   |   |   |   |   |   |   |   |--- class: good\n",
      "|   |   |   |   |   |   |   |   |   |--- credit_amount >  716.50\n",
      "|   |   |   |   |   |   |   |   |   |   |--- credit_amount <= 741.00\n",
      "|   |   |   |   |   |   |   |   |   |   |   |--- class: bad\n",
      "|   |   |   |   |   |   |   |   |   |   |--- credit_amount >  741.00\n",
      "|   |   |   |   |   |   |   |   |   |   |   |--- truncated branch of depth 6\n",
      "|   |   |   |   |   |   |   |--- credit_history >  1.50\n",
      "|   |   |   |   |   |   |   |   |--- credit_amount <= 712.50\n",
      "|   |   |   |   |   |   |   |   |   |--- credit_history <= 2.50\n",
      "|   |   |   |   |   |   |   |   |   |   |--- class: bad\n",
      "|   |   |   |   |   |   |   |   |   |--- credit_history >  2.50\n",
      "|   |   |   |   |   |   |   |   |   |   |--- credit_amount <= 702.00\n",
      "|   |   |   |   |   |   |   |   |   |   |   |--- truncated branch of depth 7\n",
      "|   |   |   |   |   |   |   |   |   |   |--- credit_amount >  702.00\n",
      "|   |   |   |   |   |   |   |   |   |   |   |--- class: good\n",
      "|   |   |   |   |   |   |   |   |--- credit_amount >  712.50\n",
      "|   |   |   |   |   |   |   |   |   |--- job <= 2.00\n",
      "|   |   |   |   |   |   |   |   |   |   |--- class: bad\n",
      "|   |   |   |   |   |   |   |   |   |--- job >  2.00\n",
      "|   |   |   |   |   |   |   |   |   |   |--- class: good\n",
      "|   |   |   |   |--- credit_amount >  824.50\n",
      "|   |   |   |   |   |--- class: good\n",
      "|   |   |   |--- credit_amount >  839.50\n",
      "|   |   |   |   |--- job <= 2.00\n",
      "|   |   |   |   |   |--- savings_status <= 1.50\n",
      "|   |   |   |   |   |   |--- credit_history <= 3.50\n",
      "|   |   |   |   |   |   |   |--- purpose <= 2.50\n",
      "|   |   |   |   |   |   |   |   |--- credit_history <= 2.50\n",
      "|   |   |   |   |   |   |   |   |   |--- class: good\n",
      "|   |   |   |   |   |   |   |   |--- credit_history >  2.50\n",
      "|   |   |   |   |   |   |   |   |   |--- class: bad\n",
      "|   |   |   |   |   |   |   |--- purpose >  2.50\n",
      "|   |   |   |   |   |   |   |   |--- class: bad\n",
      "|   |   |   |   |   |   |--- credit_history >  3.50\n",
      "|   |   |   |   |   |   |   |--- class: good\n",
      "|   |   |   |   |   |--- savings_status >  1.50\n",
      "|   |   |   |   |   |   |--- class: bad\n",
      "|   |   |   |   |--- job >  2.00\n",
      "|   |   |   |   |   |--- class: good\n",
      "|   |   |--- savings_status >  3.50\n",
      "|   |   |   |--- purpose <= 3.50\n",
      "|   |   |   |   |--- credit_amount <= 673.00\n",
      "|   |   |   |   |   |--- class: bad\n",
      "|   |   |   |   |--- credit_amount >  673.00\n",
      "|   |   |   |   |   |--- credit_amount <= 777.50\n",
      "|   |   |   |   |   |   |--- class: good\n",
      "|   |   |   |   |   |--- credit_amount >  777.50\n",
      "|   |   |   |   |   |   |--- credit_amount <= 797.50\n",
      "|   |   |   |   |   |   |   |--- class: bad\n",
      "|   |   |   |   |   |   |--- credit_amount >  797.50\n",
      "|   |   |   |   |   |   |   |--- credit_amount <= 851.00\n",
      "|   |   |   |   |   |   |   |   |--- credit_amount <= 844.00\n",
      "|   |   |   |   |   |   |   |   |   |--- class: good\n",
      "|   |   |   |   |   |   |   |   |--- credit_amount >  844.00\n",
      "|   |   |   |   |   |   |   |   |   |--- class: bad\n",
      "|   |   |   |   |   |   |   |--- credit_amount >  851.00\n",
      "|   |   |   |   |   |   |   |   |--- class: good\n",
      "|   |   |   |--- purpose >  3.50\n",
      "|   |   |   |   |--- credit_history <= 1.50\n",
      "|   |   |   |   |   |--- class: good\n",
      "|   |   |   |   |--- credit_history >  1.50\n",
      "|   |   |   |   |   |--- own_telephone <= 0.50\n",
      "|   |   |   |   |   |   |--- credit_amount <= 834.00\n",
      "|   |   |   |   |   |   |   |--- class: bad\n",
      "|   |   |   |   |   |   |--- credit_amount >  834.00\n",
      "|   |   |   |   |   |   |   |--- class: good\n",
      "|   |   |   |   |   |--- own_telephone >  0.50\n",
      "|   |   |   |   |   |   |--- class: bad\n",
      "|   |--- purpose >  4.50\n",
      "|   |   |--- credit_amount <= 888.50\n",
      "|   |   |   |--- credit_amount <= 703.50\n",
      "|   |   |   |   |--- savings_status <= 3.00\n",
      "|   |   |   |   |   |--- class: bad\n",
      "|   |   |   |   |--- savings_status >  3.00\n",
      "|   |   |   |   |   |--- class: good\n",
      "|   |   |   |--- credit_amount >  703.50\n",
      "|   |   |   |   |--- credit_history <= 2.50\n",
      "|   |   |   |   |   |--- job <= 2.00\n",
      "|   |   |   |   |   |   |--- credit_history <= 0.50\n",
      "|   |   |   |   |   |   |   |--- credit_amount <= 839.50\n",
      "|   |   |   |   |   |   |   |   |--- class: bad\n",
      "|   |   |   |   |   |   |   |--- credit_amount >  839.50\n",
      "|   |   |   |   |   |   |   |   |--- class: good\n",
      "|   |   |   |   |   |   |--- credit_history >  0.50\n",
      "|   |   |   |   |   |   |   |--- credit_amount <= 791.50\n",
      "|   |   |   |   |   |   |   |   |--- credit_amount <= 789.50\n",
      "|   |   |   |   |   |   |   |   |   |--- credit_amount <= 737.50\n",
      "|   |   |   |   |   |   |   |   |   |   |--- credit_amount <= 732.00\n",
      "|   |   |   |   |   |   |   |   |   |   |   |--- class: good\n",
      "|   |   |   |   |   |   |   |   |   |   |--- credit_amount >  732.00\n",
      "|   |   |   |   |   |   |   |   |   |   |   |--- class: bad\n",
      "|   |   |   |   |   |   |   |   |   |--- credit_amount >  737.50\n",
      "|   |   |   |   |   |   |   |   |   |   |--- class: good\n",
      "|   |   |   |   |   |   |   |   |--- credit_amount >  789.50\n",
      "|   |   |   |   |   |   |   |   |   |--- class: bad\n",
      "|   |   |   |   |   |   |   |--- credit_amount >  791.50\n",
      "|   |   |   |   |   |   |   |   |--- class: good\n",
      "|   |   |   |   |   |--- job >  2.00\n",
      "|   |   |   |   |   |   |--- credit_history <= 1.50\n",
      "|   |   |   |   |   |   |   |--- class: bad\n",
      "|   |   |   |   |   |   |--- credit_history >  1.50\n",
      "|   |   |   |   |   |   |   |--- class: good\n",
      "|   |   |   |   |--- credit_history >  2.50\n",
      "|   |   |   |   |   |--- credit_amount <= 756.50\n",
      "|   |   |   |   |   |   |--- class: good\n",
      "|   |   |   |   |   |--- credit_amount >  756.50\n",
      "|   |   |   |   |   |   |--- existing_credits <= 0.50\n",
      "|   |   |   |   |   |   |   |--- credit_amount <= 874.50\n",
      "|   |   |   |   |   |   |   |   |--- credit_amount <= 762.50\n",
      "|   |   |   |   |   |   |   |   |   |--- class: bad\n",
      "|   |   |   |   |   |   |   |   |--- credit_amount >  762.50\n",
      "|   |   |   |   |   |   |   |   |   |--- credit_amount <= 873.00\n",
      "|   |   |   |   |   |   |   |   |   |   |--- job <= 0.50\n",
      "|   |   |   |   |   |   |   |   |   |   |   |--- truncated branch of depth 2\n",
      "|   |   |   |   |   |   |   |   |   |   |--- job >  0.50\n",
      "|   |   |   |   |   |   |   |   |   |   |   |--- truncated branch of depth 7\n",
      "|   |   |   |   |   |   |   |   |   |--- credit_amount >  873.00\n",
      "|   |   |   |   |   |   |   |   |   |   |--- class: bad\n",
      "|   |   |   |   |   |   |   |--- credit_amount >  874.50\n",
      "|   |   |   |   |   |   |   |   |--- class: good\n",
      "|   |   |   |   |   |   |--- existing_credits >  0.50\n",
      "|   |   |   |   |   |   |   |--- own_telephone <= 0.50\n",
      "|   |   |   |   |   |   |   |   |--- class: good\n",
      "|   |   |   |   |   |   |   |--- own_telephone >  0.50\n",
      "|   |   |   |   |   |   |   |   |--- class: bad\n",
      "|   |   |--- credit_amount >  888.50\n",
      "|   |   |   |--- credit_history <= 2.50\n",
      "|   |   |   |   |--- credit_history <= 0.50\n",
      "|   |   |   |   |   |--- class: bad\n",
      "|   |   |   |   |--- credit_history >  0.50\n",
      "|   |   |   |   |   |--- class: good\n",
      "|   |   |   |--- credit_history >  2.50\n",
      "|   |   |   |   |--- class: bad\n",
      "\n"
     ]
    }
   ],
   "source": [
    "print(export_text(tree, feature_names=list(new_df.columns)))"
   ]
  },
  {
   "cell_type": "markdown",
   "metadata": {},
   "source": [
    "## Based on this result, what is the major problem of single decision tree?"
   ]
  }
 ],
 "metadata": {
  "anaconda-cloud": {},
  "kernelspec": {
   "display_name": "Python 3",
   "language": "python",
   "name": "python3"
  },
  "language_info": {
   "codemirror_mode": {
    "name": "ipython",
    "version": 3
   },
   "file_extension": ".py",
   "mimetype": "text/x-python",
   "name": "python",
   "nbconvert_exporter": "python",
   "pygments_lexer": "ipython3",
   "version": "3.8.8"
  }
 },
 "nbformat": 4,
 "nbformat_minor": 4
}
