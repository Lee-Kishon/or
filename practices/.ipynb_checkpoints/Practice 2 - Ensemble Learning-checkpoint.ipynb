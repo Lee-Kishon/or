{
 "cells": [
  {
   "cell_type": "markdown",
   "metadata": {},
   "source": [
    "# Ensemble Learning using RF \n",
    "We will be using tree-based ensemble methods on the [Covertype dataset](https://www.openml.org/d/180)."
   ]
  },
  {
   "cell_type": "code",
   "execution_count": 3,
   "metadata": {},
   "outputs": [],
   "source": [
    "%matplotlib inline\n",
    "# imports\n",
    "import pandas as pd\n",
    "import numpy as np\n",
    "import matplotlib.pyplot as plt\n",
    "import openml\n",
    "import time\n",
    "from sklearn.ensemble import RandomForestClassifier, GradientBoostingClassifier\n",
    "from sklearn.model_selection import cross_val_score, train_test_split\n",
    "from sklearn.metrics import balanced_accuracy_score\n",
    "from sklearn.metrics import confusion_matrix, classification_report\n",
    "import seaborn as sns"
   ]
  },
  {
   "cell_type": "code",
   "execution_count": 4,
   "metadata": {},
   "outputs": [],
   "source": [
    "covertype = openml.datasets.get_dataset(180)\n",
    "X, y, _, _ = covertype.get_data(target=covertype.default_target_attribute, dataset_format='array'); \n",
    "features = [f.name for i,f in covertype.features.items()][:-1]\n",
    "X = pd.DataFrame(X, columns=features)\n",
    "classes = covertype.retrieve_class_labels()"
   ]
  },
  {
   "cell_type": "code",
   "execution_count": 5,
   "metadata": {},
   "outputs": [
    {
     "data": {
      "text/html": [
       "<div>\n",
       "<style scoped>\n",
       "    .dataframe tbody tr th:only-of-type {\n",
       "        vertical-align: middle;\n",
       "    }\n",
       "\n",
       "    .dataframe tbody tr th {\n",
       "        vertical-align: top;\n",
       "    }\n",
       "\n",
       "    .dataframe thead th {\n",
       "        text-align: right;\n",
       "    }\n",
       "</style>\n",
       "<table border=\"1\" class=\"dataframe\">\n",
       "  <thead>\n",
       "    <tr style=\"text-align: right;\">\n",
       "      <th></th>\n",
       "      <th>elevation</th>\n",
       "      <th>aspect</th>\n",
       "      <th>slope</th>\n",
       "      <th>horizontal_distance_to_hydrology</th>\n",
       "      <th>Vertical_Distance_To_Hydrology</th>\n",
       "      <th>Horizontal_Distance_To_Roadways</th>\n",
       "      <th>Hillshade_9am</th>\n",
       "      <th>Hillshade_Noon</th>\n",
       "      <th>Hillshade_3pm</th>\n",
       "      <th>Horizontal_Distance_To_Fire_Points</th>\n",
       "      <th>...</th>\n",
       "      <th>soil_type_31</th>\n",
       "      <th>soil_type_32</th>\n",
       "      <th>soil_type_33</th>\n",
       "      <th>soil_type_34</th>\n",
       "      <th>soil_type_35</th>\n",
       "      <th>soil_type_36</th>\n",
       "      <th>soil_type_37</th>\n",
       "      <th>soil_type_38</th>\n",
       "      <th>soil_type_39</th>\n",
       "      <th>soil_type_40</th>\n",
       "    </tr>\n",
       "  </thead>\n",
       "  <tbody>\n",
       "    <tr>\n",
       "      <th>0</th>\n",
       "      <td>2754.0</td>\n",
       "      <td>146.0</td>\n",
       "      <td>5.0</td>\n",
       "      <td>150.0</td>\n",
       "      <td>2.0</td>\n",
       "      <td>1790.0</td>\n",
       "      <td>227.0</td>\n",
       "      <td>239.0</td>\n",
       "      <td>146.0</td>\n",
       "      <td>700.0</td>\n",
       "      <td>...</td>\n",
       "      <td>0.0</td>\n",
       "      <td>0.0</td>\n",
       "      <td>0.0</td>\n",
       "      <td>0.0</td>\n",
       "      <td>0.0</td>\n",
       "      <td>0.0</td>\n",
       "      <td>0.0</td>\n",
       "      <td>0.0</td>\n",
       "      <td>0.0</td>\n",
       "      <td>0.0</td>\n",
       "    </tr>\n",
       "    <tr>\n",
       "      <th>1</th>\n",
       "      <td>3219.0</td>\n",
       "      <td>21.0</td>\n",
       "      <td>8.0</td>\n",
       "      <td>67.0</td>\n",
       "      <td>-1.0</td>\n",
       "      <td>2869.0</td>\n",
       "      <td>215.0</td>\n",
       "      <td>223.0</td>\n",
       "      <td>145.0</td>\n",
       "      <td>1825.0</td>\n",
       "      <td>...</td>\n",
       "      <td>1.0</td>\n",
       "      <td>0.0</td>\n",
       "      <td>0.0</td>\n",
       "      <td>0.0</td>\n",
       "      <td>0.0</td>\n",
       "      <td>0.0</td>\n",
       "      <td>0.0</td>\n",
       "      <td>0.0</td>\n",
       "      <td>0.0</td>\n",
       "      <td>0.0</td>\n",
       "    </tr>\n",
       "    <tr>\n",
       "      <th>2</th>\n",
       "      <td>2965.0</td>\n",
       "      <td>337.0</td>\n",
       "      <td>16.0</td>\n",
       "      <td>42.0</td>\n",
       "      <td>7.0</td>\n",
       "      <td>4288.0</td>\n",
       "      <td>184.0</td>\n",
       "      <td>217.0</td>\n",
       "      <td>171.0</td>\n",
       "      <td>324.0</td>\n",
       "      <td>...</td>\n",
       "      <td>0.0</td>\n",
       "      <td>0.0</td>\n",
       "      <td>0.0</td>\n",
       "      <td>0.0</td>\n",
       "      <td>0.0</td>\n",
       "      <td>0.0</td>\n",
       "      <td>0.0</td>\n",
       "      <td>0.0</td>\n",
       "      <td>0.0</td>\n",
       "      <td>0.0</td>\n",
       "    </tr>\n",
       "    <tr>\n",
       "      <th>3</th>\n",
       "      <td>2368.0</td>\n",
       "      <td>14.0</td>\n",
       "      <td>15.0</td>\n",
       "      <td>150.0</td>\n",
       "      <td>65.0</td>\n",
       "      <td>1006.0</td>\n",
       "      <td>205.0</td>\n",
       "      <td>208.0</td>\n",
       "      <td>137.0</td>\n",
       "      <td>812.0</td>\n",
       "      <td>...</td>\n",
       "      <td>0.0</td>\n",
       "      <td>0.0</td>\n",
       "      <td>0.0</td>\n",
       "      <td>0.0</td>\n",
       "      <td>0.0</td>\n",
       "      <td>0.0</td>\n",
       "      <td>0.0</td>\n",
       "      <td>0.0</td>\n",
       "      <td>0.0</td>\n",
       "      <td>0.0</td>\n",
       "    </tr>\n",
       "    <tr>\n",
       "      <th>4</th>\n",
       "      <td>2366.0</td>\n",
       "      <td>165.0</td>\n",
       "      <td>3.0</td>\n",
       "      <td>390.0</td>\n",
       "      <td>156.0</td>\n",
       "      <td>1165.0</td>\n",
       "      <td>222.0</td>\n",
       "      <td>240.0</td>\n",
       "      <td>154.0</td>\n",
       "      <td>582.0</td>\n",
       "      <td>...</td>\n",
       "      <td>0.0</td>\n",
       "      <td>0.0</td>\n",
       "      <td>0.0</td>\n",
       "      <td>0.0</td>\n",
       "      <td>0.0</td>\n",
       "      <td>0.0</td>\n",
       "      <td>0.0</td>\n",
       "      <td>0.0</td>\n",
       "      <td>0.0</td>\n",
       "      <td>0.0</td>\n",
       "    </tr>\n",
       "  </tbody>\n",
       "</table>\n",
       "<p>5 rows × 54 columns</p>\n",
       "</div>"
      ],
      "text/plain": [
       "   elevation  aspect  slope  horizontal_distance_to_hydrology  \\\n",
       "0     2754.0   146.0    5.0                             150.0   \n",
       "1     3219.0    21.0    8.0                              67.0   \n",
       "2     2965.0   337.0   16.0                              42.0   \n",
       "3     2368.0    14.0   15.0                             150.0   \n",
       "4     2366.0   165.0    3.0                             390.0   \n",
       "\n",
       "   Vertical_Distance_To_Hydrology  Horizontal_Distance_To_Roadways  \\\n",
       "0                             2.0                           1790.0   \n",
       "1                            -1.0                           2869.0   \n",
       "2                             7.0                           4288.0   \n",
       "3                            65.0                           1006.0   \n",
       "4                           156.0                           1165.0   \n",
       "\n",
       "   Hillshade_9am  Hillshade_Noon  Hillshade_3pm  \\\n",
       "0          227.0           239.0          146.0   \n",
       "1          215.0           223.0          145.0   \n",
       "2          184.0           217.0          171.0   \n",
       "3          205.0           208.0          137.0   \n",
       "4          222.0           240.0          154.0   \n",
       "\n",
       "   Horizontal_Distance_To_Fire_Points  ...  soil_type_31  soil_type_32  \\\n",
       "0                               700.0  ...           0.0           0.0   \n",
       "1                              1825.0  ...           1.0           0.0   \n",
       "2                               324.0  ...           0.0           0.0   \n",
       "3                               812.0  ...           0.0           0.0   \n",
       "4                               582.0  ...           0.0           0.0   \n",
       "\n",
       "   soil_type_33  soil_type_34  soil_type_35  soil_type_36  soil_type_37  \\\n",
       "0           0.0           0.0           0.0           0.0           0.0   \n",
       "1           0.0           0.0           0.0           0.0           0.0   \n",
       "2           0.0           0.0           0.0           0.0           0.0   \n",
       "3           0.0           0.0           0.0           0.0           0.0   \n",
       "4           0.0           0.0           0.0           0.0           0.0   \n",
       "\n",
       "   soil_type_38  soil_type_39  soil_type_40  \n",
       "0           0.0           0.0           0.0  \n",
       "1           0.0           0.0           0.0  \n",
       "2           0.0           0.0           0.0  \n",
       "3           0.0           0.0           0.0  \n",
       "4           0.0           0.0           0.0  \n",
       "\n",
       "[5 rows x 54 columns]"
      ]
     },
     "execution_count": 5,
     "metadata": {},
     "output_type": "execute_result"
    }
   ],
   "source": [
    "X.head()"
   ]
  },
  {
   "cell_type": "code",
   "execution_count": 6,
   "metadata": {},
   "outputs": [
    {
     "data": {
      "text/plain": [
       "['Aspen',\n",
       " 'Cottonwood_Willow',\n",
       " 'Douglas_fir',\n",
       " 'Krummholz',\n",
       " 'Lodgepole_Pine',\n",
       " 'Ponderosa_Pine',\n",
       " 'Spruce_Fir']"
      ]
     },
     "execution_count": 6,
     "metadata": {},
     "output_type": "execute_result"
    }
   ],
   "source": [
    "classes"
   ]
  },
  {
   "cell_type": "markdown",
   "metadata": {},
   "source": [
    "## Exercise 1: Random Forests\n",
    "\n",
    "Implement a function `evaluate_rf` that measures the performance of a Random Forest Classifier, using trees of (max) depth 2,8,32, for any number of trees in the ensemble (`n_estimators`). For each model, store the cross validation score based on k=3.\n"
   ]
  },
  {
   "cell_type": "code",
   "execution_count": null,
   "metadata": {},
   "outputs": [],
   "source": [
    "def evaluate_RF(X, y, n_estimators, max_depth=[2,8,32], scoring='accuracy'):\n",
    "    pass"
   ]
  },
  {
   "cell_type": "code",
   "execution_count": null,
   "metadata": {},
   "outputs": [],
   "source": []
  },
  {
   "cell_type": "markdown",
   "metadata": {},
   "source": [
    "## Exercise 2: Feature importance\n",
    "Retrieve the feature importances according to the (tuned) random forest model. Which feature are most important?"
   ]
  },
  {
   "cell_type": "code",
   "execution_count": null,
   "metadata": {},
   "outputs": [],
   "source": []
  },
  {
   "cell_type": "markdown",
   "metadata": {},
   "source": [
    "Plot the results."
   ]
  },
  {
   "cell_type": "code",
   "execution_count": null,
   "metadata": {},
   "outputs": [],
   "source": []
  },
  {
   "cell_type": "markdown",
   "metadata": {},
   "source": [
    "## Exercise 3: Feature selection\n",
    "Re-build your tuned random forest, but this time only using the first 10 features.\n",
    "Return both the balanced accuracy and training time. Interpret the results."
   ]
  },
  {
   "cell_type": "code",
   "execution_count": null,
   "metadata": {},
   "outputs": [],
   "source": []
  },
  {
   "cell_type": "code",
   "execution_count": null,
   "metadata": {},
   "outputs": [],
   "source": [
    "# Model Solution\n",
    "start = time.time()\n",
    "score = evaluate_RF(X,y,25,max_depth=[32], scoring='balanced_accuracy')\n",
    "print(\"Normal RF: {:.2f} balanced ACC, {:.2f} seconds\".format(score['rf_32'], (time.time()-start)))\n",
    "start = time.time()\n",
    "score = evaluate_RF(X[top_features],y,25,max_depth=[32], scoring='balanced_accuracy')\n",
    "print(\"Feature Selection RF: {:.2f} balanced ACC, {:.2f} seconds\".format(score['rf_32'], (time.time()-start)))"
   ]
  },
  {
   "cell_type": "markdown",
   "metadata": {},
   "source": [
    "## Exercise 4: Confusion matrix\n",
    "Do a standard stratified holdout and generate the confusion matrix of the tuned random forest. Which classes are still often confused?"
   ]
  },
  {
   "cell_type": "code",
   "execution_count": null,
   "metadata": {},
   "outputs": [],
   "source": [
    "# Model Solution\n",
    "X_train, X_test, y_train, y_test = train_test_split(X,y, stratify=y, random_state=1)\n",
    "tuned_forest = RandomForestClassifier(random_state=0, n_estimators=25, max_depth=32).fit(X_train, y_train)"
   ]
  },
  {
   "cell_type": "code",
   "execution_count": null,
   "metadata": {},
   "outputs": [],
   "source": [
    "# Model Solution\n",
    "confusion_matrix(y_test, tuned_forest.predict(X_test))"
   ]
  },
  {
   "cell_type": "code",
   "execution_count": null,
   "metadata": {},
   "outputs": [],
   "source": [
    "print(classification_report(y_test, tuned_forest.predict(X_test)))"
   ]
  },
  {
   "cell_type": "code",
   "execution_count": null,
   "metadata": {},
   "outputs": [],
   "source": []
  }
 ],
 "metadata": {
  "anaconda-cloud": {},
  "kernelspec": {
   "display_name": "Python 3",
   "language": "python",
   "name": "python3"
  },
  "language_info": {
   "codemirror_mode": {
    "name": "ipython",
    "version": 3
   },
   "file_extension": ".py",
   "mimetype": "text/x-python",
   "name": "python",
   "nbconvert_exporter": "python",
   "pygments_lexer": "ipython3",
   "version": "3.8.8"
  }
 },
 "nbformat": 4,
 "nbformat_minor": 4
}
