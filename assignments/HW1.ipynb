{
 "cells": [
  {
   "cell_type": "markdown",
   "id": "d6534dcc",
   "metadata": {},
   "source": [
    "# ML for Business Analytics"
   ]
  },
  {
   "cell_type": "markdown",
   "id": "1a70ba62",
   "metadata": {},
   "source": [
    "## Exercise 1 - Data Handler \n",
    "\n",
    "In this section, you are require to choose a dataset for practice. <br/>\n",
    "You can choose to use your own dataset, or using the OpenML datasets:\n",
    "\n",
    "https://www.openml.org/search?type=data&status=active\n",
    "\n"
   ]
  },
  {
   "cell_type": "markdown",
   "id": "8022776b",
   "metadata": {},
   "source": [
    "### Exercise 1.1\n",
    "\n",
    "Read the dataset into dataframe and display the 5 first rows."
   ]
  },
  {
   "cell_type": "code",
   "execution_count": null,
   "id": "7ff992ae",
   "metadata": {},
   "outputs": [],
   "source": []
  },
  {
   "cell_type": "markdown",
   "id": "71c16ca9",
   "metadata": {},
   "source": [
    "### Exercise 1.2\n",
    "\n",
    "Choose two features, one categorical and one numeric, and perform simple exploration (for example, statistical measures, distribution, graphs, etc.)"
   ]
  },
  {
   "cell_type": "code",
   "execution_count": null,
   "id": "dcbc7431",
   "metadata": {},
   "outputs": [],
   "source": []
  },
  {
   "cell_type": "markdown",
   "id": "ac1655a0",
   "metadata": {},
   "source": [
    "## Exercise 2 - Feature Encoding"
   ]
  },
  {
   "cell_type": "markdown",
   "id": "f054cb81",
   "metadata": {},
   "source": [
    "### Exercise 2.1\n",
    "\n",
    "Remove all empty values from the dataframe."
   ]
  },
  {
   "cell_type": "code",
   "execution_count": null,
   "id": "c48778c6",
   "metadata": {},
   "outputs": [],
   "source": []
  },
  {
   "cell_type": "markdown",
   "id": "6e7aa5a4",
   "metadata": {},
   "source": [
    "### Exercise 2.2\n",
    "\n",
    "Create two copies of your data: one for distance-based algorithms and one for non-distance algorithms."
   ]
  },
  {
   "cell_type": "code",
   "execution_count": null,
   "id": "920d6fe9",
   "metadata": {},
   "outputs": [],
   "source": []
  },
  {
   "cell_type": "markdown",
   "id": "821c8fe1",
   "metadata": {},
   "source": [
    "### Exercise 2.3\n",
    "\n",
    "For distance-based algorithms, encode categorical features using one-hot-vector. <br/>\n",
    "For non-distance algorithms, encode categorical features using label-encoder. <br/>\n"
   ]
  },
  {
   "cell_type": "code",
   "execution_count": null,
   "id": "e6cc0905",
   "metadata": {},
   "outputs": [],
   "source": []
  },
  {
   "cell_type": "markdown",
   "id": "71085658",
   "metadata": {},
   "source": [
    "### Exercise 2.4\n",
    "\n",
    "For distance-based algorithms, normalize features using min-max normalization. <br/>\n",
    "For non-distance algorithms, normalize features using z-score / robust scaler. <br/>"
   ]
  },
  {
   "cell_type": "code",
   "execution_count": null,
   "id": "e227b8ee",
   "metadata": {},
   "outputs": [],
   "source": []
  },
  {
   "cell_type": "markdown",
   "id": "f4187595",
   "metadata": {},
   "source": [
    "## Exercise 3 - Feature Selection"
   ]
  },
  {
   "cell_type": "markdown",
   "id": "b89436b5",
   "metadata": {},
   "source": [
    "### Exercise 3.1\n",
    "\n",
    "Perform Feature Selection technique on the non-distance dataset. You can use any technique you like/want."
   ]
  },
  {
   "cell_type": "code",
   "execution_count": null,
   "id": "7f5e4a16",
   "metadata": {},
   "outputs": [],
   "source": []
  },
  {
   "cell_type": "markdown",
   "id": "d93a2591",
   "metadata": {},
   "source": [
    "### Exercise 3.2\n",
    "\n",
    "Choose one supervised model and compare the accuracy score of the original dataset (i.e. before the feature selection) and the new dataset."
   ]
  },
  {
   "cell_type": "code",
   "execution_count": null,
   "id": "ffdff836",
   "metadata": {},
   "outputs": [],
   "source": []
  },
  {
   "cell_type": "markdown",
   "id": "682c19df",
   "metadata": {},
   "source": [
    "## Exercise 4 - Learning\n",
    "\n",
    "1. Select an Ensemble learning technique and evaluate it based on the optimized dataset (after the feature selection).\n",
    "2. Print the accuracy score and weighted F1-score. What is the conclusion? "
   ]
  },
  {
   "cell_type": "code",
   "execution_count": null,
   "id": "67b2cddd",
   "metadata": {},
   "outputs": [],
   "source": []
  }
 ],
 "metadata": {
  "kernelspec": {
   "display_name": "Python 3",
   "language": "python",
   "name": "python3"
  },
  "language_info": {
   "codemirror_mode": {
    "name": "ipython",
    "version": 3
   },
   "file_extension": ".py",
   "mimetype": "text/x-python",
   "name": "python",
   "nbconvert_exporter": "python",
   "pygments_lexer": "ipython3",
   "version": "3.8.8"
  }
 },
 "nbformat": 4,
 "nbformat_minor": 5
}
